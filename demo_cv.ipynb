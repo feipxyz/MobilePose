{
 "cells": [
  {
   "cell_type": "code",
   "execution_count": 1,
   "metadata": {},
   "outputs": [
    {
     "name": "stdout",
     "output_type": "stream",
     "text": [
      "GPU NUM: 1, Thread NUM: 48\n"
     ]
    }
   ],
   "source": [
    "# coding: utf-8\n",
    "\n",
    "import numpy as np\n",
    "import torch\n",
    "import os\n",
    "import time\n",
    "\n",
    "import sys\n",
    "sys.path.append('/home/tudou/Github/tmp/MobilePose')\n",
    "\n",
    "# import matplotlib\n",
    "# matplotlib.use('Agg')\n",
    "import matplotlib.pyplot as plt\n",
    "%matplotlib inline  \n",
    "\n",
    "from networks import *\n",
    "from network import CoordRegressionNetwork\n",
    "from torch.utils.data import DataLoader\n",
    "from dataset_factory import DatasetFactory\n",
    "import multiprocessing\n",
    "from default import get_cfg_defaults\n",
    "\n",
    "# gpu setting\n",
    "os.environ[\"CUDA_VISIBLE_DEVICES\"]=\"1\"\n",
    "torch.backends.cudnn.enabled = True\n",
    "device = torch.device(\"cuda\" if True else \"cpu\")\n",
    "num_threads = multiprocessing.cpu_count()\n",
    "print(\"GPU NUM: %d, Thread NUM: %d\"%(torch.cuda.device_count(),num_threads))\n",
    "\n",
    "%load_ext autoreload\n",
    "%autoreload 2"
   ]
  },
  {
   "cell_type": "code",
   "execution_count": 11,
   "metadata": {},
   "outputs": [],
   "source": [
    "config_file = '/home/tudou/Github/tmp/MobilePose/config/coord_resnet18.yaml'\n",
    "cfg = get_cfg_defaults()\n",
    "cfg.merge_from_file(config_file)\n",
    "model_path = \"/home/tudou/Github/tmp/MobilePose/experiment/weight/opt-phone-resnet18-320-8kp-best.pth\"\n",
    "# model_path = \"experiment/weight2/opt-phone-resnet18-320-8kp-best.pth\"\n",
    "net = CoordRegressionNetwork(n_locations=cfg.TASK.COORD_NUM, backbone=cfg.MODEL.BACKBONE.NAME)\n",
    "net.load_state_dict(torch.load(model_path, map_location=torch.device('cpu')))\n",
    "net = net.eval()\n",
    "\n",
    "# inputsize = 480\n",
    "# x = torch.randn((2,3,480,480))\n",
    "# y = net(x)\n",
    "# print(y[0].shape)"
   ]
  },
  {
   "cell_type": "code",
   "execution_count": 12,
   "metadata": {},
   "outputs": [],
   "source": [
    "import cv2\n",
    "\n",
    "def rescale(image, output_size):\n",
    "    image = image / 255\n",
    "    h, w = image.shape[:2]\n",
    "    # if h == 0 or w == 0:\n",
    "    #     print()\n",
    "    # print(image_.shape)\n",
    "    im_scale = min(float(output_size[0]) / float(h), float(output_size[1]) / float(w))\n",
    "    new_h = int(image.shape[0] * im_scale)\n",
    "    new_w = int(image.shape[1] * im_scale)\n",
    "    image = cv2.resize(image, (new_w, new_h),\n",
    "                interpolation=cv2.INTER_LINEAR)\n",
    "    left_pad = (output_size[1] - new_w) // 2\n",
    "    right_pad = (output_size[1] - new_w) - left_pad\n",
    "    top_pad = (output_size[0] - new_h) // 2\n",
    "    bottom_pad = (output_size[0] - new_h) - top_pad\n",
    "    mean=np.array([0.485, 0.456, 0.406])\n",
    "    pad = ((top_pad, bottom_pad), (left_pad, right_pad))\n",
    "    image = np.stack([np.pad(image[:,:,c], pad, mode='constant', constant_values=mean[c]) \n",
    "                    for c in range(3)], axis=2)\n",
    "    \n",
    "    return image\n",
    "\n",
    "\n",
    "def totensor(image):\n",
    "\n",
    "\t\t# todo: support heatmap\n",
    "        # guass_heatmap = sample['guass_heatmap']\n",
    "        h, w = image.shape[:2]\n",
    "\n",
    "        mean=np.array([0.485, 0.456, 0.406])\n",
    "        std=np.array([0.229, 0.224, 0.225])\n",
    "\n",
    "        image[:,:,:3] = (image[:,:,:3]-mean)/(std)\n",
    "        image = image.transpose((2, 0, 1))\n",
    "        image = image[np.newaxis, ...]\n",
    "        image = torch.from_numpy(image).float()\n",
    "\n",
    "\t\t# todo: support heatmap\n",
    "\t    # guass_heatmap = torch.from_numpy(guass_heatmap).float()\n",
    "        return image"
   ]
  },
  {
   "cell_type": "code",
   "execution_count": 13,
   "metadata": {},
   "outputs": [
    {
     "name": "stdout",
     "output_type": "stream",
     "text": [
      "torch.Size([1, 3, 480, 480])\n"
     ]
    }
   ],
   "source": [
    "image = cv2.imread(\"keypoint.jpeg\")\n",
    "image = rescale(image, [480, 480])\n",
    "\n",
    "# image = cv2.imread(\"/data3/tudou/data/keypoint/opt-for-detect/Image_20211217171609611.jpeg\")\n",
    "# image = rescale(image, [320, 320])\n",
    "image = totensor(image)\n",
    "print(image.shape)"
   ]
  },
  {
   "cell_type": "code",
   "execution_count": 14,
   "metadata": {},
   "outputs": [
    {
     "data": {
      "text/plain": [
       "True"
      ]
     },
     "execution_count": 14,
     "metadata": {},
     "output_type": "execute_result"
    }
   ],
   "source": [
    "\n",
    "from dataloader import display_pose\n",
    "\n",
    "coords, heatmaps = net(image)\n",
    "\n",
    "drawed = display_pose(image[0][:3,:,:], coords[0], 0)\n",
    "cv2.imwrite(\"output.jpg\", drawed)\n"
   ]
  },
  {
   "cell_type": "code",
   "execution_count": null,
   "metadata": {},
   "outputs": [],
   "source": []
  }
 ],
 "metadata": {
  "interpreter": {
   "hash": "d5632188b97272c24fdde9f84a59b7085c95b2dc2465fed99ecabf93bef69af5"
  },
  "kernelspec": {
   "display_name": "Python 3.8.10 64-bit ('pytorch1.9': conda)",
   "language": "python",
   "name": "python3"
  },
  "language_info": {
   "codemirror_mode": {
    "name": "ipython",
    "version": 3
   },
   "file_extension": ".py",
   "mimetype": "text/x-python",
   "name": "python",
   "nbconvert_exporter": "python",
   "pygments_lexer": "ipython3",
   "version": "3.8.10"
  },
  "orig_nbformat": 4
 },
 "nbformat": 4,
 "nbformat_minor": 2
}
